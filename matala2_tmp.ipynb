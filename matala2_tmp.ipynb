{
 "cells": [
  {
   "cell_type": "code",
   "execution_count": null,
   "id": "e8cb4834",
   "metadata": {},
   "outputs": [],
   "source": [
    "import pandas as pd\n",
    "data = pd.read_csv(\"matala2_cosmetics_2019-Nov.csv\")\n",
    "\n"
   ]
  },
  {
   "attachments": {},
   "cell_type": "markdown",
   "id": "b7217d1d",
   "metadata": {},
   "source": [
    "## quastion 1"
   ]
  },
  {
   "cell_type": "code",
   "execution_count": null,
   "id": "53031e57",
   "metadata": {},
   "outputs": [],
   "source": [
    "data['event_time'] = pd.to_datetime(data['event_time'])\n",
    "data['duration_to_next_event'] = data.groupby('user_session')['event_time'].apply(lambda x: x.shift(-1) - x)\n",
    "data['duration_to_next_event'] = data['duration_to_next_event'].astype('timedelta64[s]').fillna(0)\n",
    "data.head()"
   ]
  },
  {
   "attachments": {},
   "cell_type": "markdown",
   "id": "af83870d",
   "metadata": {},
   "source": [
    "## quastion 2"
   ]
  },
  {
   "cell_type": "code",
   "execution_count": null,
   "id": "01dbadf5",
   "metadata": {},
   "outputs": [],
   "source": [
    "data['funnel_number'] = data.groupby('user_id')['event_time'].apply(\n",
    "    lambda x: (x - x.shift(1)).dt.days.gt(5).cumsum()+1)"
   ]
  },
  {
   "attachments": {},
   "cell_type": "markdown",
   "id": "070b6f1e",
   "metadata": {},
   "source": [
    "## quastion 3"
   ]
  },
  {
   "cell_type": "code",
   "execution_count": null,
   "id": "7b13014b",
   "metadata": {},
   "outputs": [],
   "source": [
    "data['index_in_funnel'] = data.groupby(['user_id' , 'funnel_number'])['user_session'].rank(method='first')\n",
    "data"
   ]
  },
  {
   "attachments": {},
   "cell_type": "markdown",
   "id": "c59509f1",
   "metadata": {},
   "source": [
    "## quastion 4"
   ]
  },
  {
   "cell_type": "code",
   "execution_count": null,
   "id": "df970e8b",
   "metadata": {},
   "outputs": [],
   "source": [
    "\n",
    "import re\n",
    "data['price'] = data['price'].apply(lambda x: re.search('[0-9]+\\.+[0-9]+' , x).group()).astype(float)\n",
    "data"
   ]
  },
  {
   "attachments": {},
   "cell_type": "markdown",
   "id": "7ab1b941",
   "metadata": {},
   "source": [
    "## quastion 5"
   ]
  },
  {
   "cell_type": "code",
   "execution_count": null,
   "id": "f0b105b7",
   "metadata": {},
   "outputs": [],
   "source": [
    "_=data.event_type.value_counts().plot.bar()"
   ]
  },
  {
   "attachments": {},
   "cell_type": "markdown",
   "id": "16065652",
   "metadata": {},
   "source": [
    "## quastion 6\n"
   ]
  },
  {
   "cell_type": "code",
   "execution_count": null,
   "id": "d7acb56c",
   "metadata": {},
   "outputs": [],
   "source": [
    "session_data = data[['user_id', 'user_session' , 'funnel_number' , 'index_in_funnel']].groupby('user_session').first()\n",
    "session_data['event_count'] = data.groupby('user_session').size()\n",
    "session_data['session_duration'] = data[['duration_to_next_event' , 'user_session']].groupby('user_session').sum()\n",
    "session_data['list_of_viewed'] = data[data['event_type'] == 'view'].groupby('user_session')['product_id'].apply(list)\n",
    "session_data['list_of_added_to_cart'] = data[data['event_type'] == 'cart'].groupby('user_session')['product_id'].apply(list)\n",
    "session_data['list_of_purchased'] = data[data['event_type'] == 'purchase'].groupby('user_session')['product_id'].apply(list)\n",
    "session_data"
   ]
  }
 ],
 "metadata": {
  "kernelspec": {
   "display_name": "Python 3 (ipykernel)",
   "language": "python",
   "name": "python3"
  },
  "language_info": {
   "codemirror_mode": {
    "name": "ipython",
    "version": 3
   },
   "file_extension": ".py",
   "mimetype": "text/x-python",
   "name": "python",
   "nbconvert_exporter": "python",
   "pygments_lexer": "ipython3",
   "version": "3.9.13"
  }
 },
 "nbformat": 4,
 "nbformat_minor": 5
}
